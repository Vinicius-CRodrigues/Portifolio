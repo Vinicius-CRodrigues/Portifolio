{
 "cells": [
  {
   "cell_type": "markdown",
   "id": "55f06395",
   "metadata": {},
   "source": [
    "Classificação de Imóveis: O conjunto de dados será processado para separar os imóveis em duas categorias: Comerciais e Residenciais.\n",
    "\n",
    "Geração de CSV Consolidado: Será criado um novo arquivo CSV contendo as informações dos imóveis, destacando o atributo mais frequente (ou predominante) encontrado em cada um dos grupos (Comercial e Residencial).\n",
    "\n",
    "Cálculo de Despesas: Serão adicionadas duas novas colunas ao dataset para ambos os tipos de imóveis (residenciais e comerciais):\n",
    "\n",
    "Gasto Mensal\n",
    "\n",
    "Gasto Anual\n",
    "\n",
    "Essas colunas serão preenchidas com base nos dados de despesas fornecidos.\n",
    "\n",
    "Análise e Visualização Gráfica: Será gerado um gráfico para demonstrar a distribuição dos valores de aluguéis por tipo de imóvel (residencial e comercial).\n",
    "\n",
    "Destaque de Atributos por Área: Após a separação inicial, será criada uma nova coluna para identificar e destacar as características predominantes nos imóveis (residenciais e comerciais) que possuem área superior a 70m."
   ]
  },
  {
   "cell_type": "code",
   "execution_count": 1,
   "id": "0b87897d",
   "metadata": {},
   "outputs": [
    {
     "data": {
      "application/vnd.microsoft.datawrangler.viewer.v0+json": {
       "columns": [
        {
         "name": "index",
         "rawType": "int64",
         "type": "integer"
        },
        {
         "name": "Tipo",
         "rawType": "object",
         "type": "string"
        },
        {
         "name": "Bairro",
         "rawType": "object",
         "type": "string"
        },
        {
         "name": "Quartos",
         "rawType": "int64",
         "type": "integer"
        },
        {
         "name": "Vagas",
         "rawType": "int64",
         "type": "integer"
        },
        {
         "name": "Suites",
         "rawType": "int64",
         "type": "integer"
        },
        {
         "name": "Area",
         "rawType": "int64",
         "type": "integer"
        },
        {
         "name": "Valor",
         "rawType": "float64",
         "type": "float"
        },
        {
         "name": "Condominio",
         "rawType": "float64",
         "type": "float"
        },
        {
         "name": "IPTU",
         "rawType": "float64",
         "type": "float"
        }
       ],
       "ref": "3cbe8ab3-5c6d-48a0-b8ed-c2f0cfd3cba2",
       "rows": [
        [
         "0",
         "Quitinete",
         "Copacabana",
         "1",
         "0",
         "0",
         "40",
         "1700.0",
         "500.0",
         "60.0"
        ],
        [
         "1",
         "Casa",
         "Jardim Botânico",
         "2",
         "0",
         "1",
         "100",
         "7000.0",
         null,
         null
        ],
        [
         "2",
         "Conjunto Comercial/Sala",
         "Barra da Tijuca",
         "0",
         "4",
         "0",
         "150",
         "5200.0",
         "4020.0",
         "1111.0"
        ],
        [
         "3",
         "Apartamento",
         "Centro",
         "1",
         "0",
         "0",
         "15",
         "800.0",
         "390.0",
         "20.0"
        ],
        [
         "4",
         "Apartamento",
         "Higienópolis",
         "1",
         "0",
         "0",
         "48",
         "800.0",
         "230.0",
         null
        ],
        [
         "5",
         "Apartamento",
         "Vista Alegre",
         "3",
         "1",
         "0",
         "70",
         "1200.0",
         null,
         null
        ],
        [
         "6",
         "Apartamento",
         "Cachambi",
         "2",
         "0",
         "0",
         "50",
         "1300.0",
         "301.0",
         "17.0"
        ],
        [
         "7",
         "Casa de Condomínio",
         "Barra da Tijuca",
         "5",
         "4",
         "5",
         "750",
         "22000.0",
         null,
         null
        ],
        [
         "8",
         "Casa de Condomínio",
         "Ramos",
         "2",
         "2",
         "0",
         "65",
         "1000.0",
         null,
         null
        ],
        [
         "9",
         "Conjunto Comercial/Sala",
         "Centro",
         "0",
         "3",
         "0",
         "695",
         "35000.0",
         "19193.0",
         "3030.0"
        ],
        [
         "10",
         "Apartamento",
         "Centro",
         "1",
         "0",
         "0",
         "36",
         "1200.0",
         null,
         null
        ],
        [
         "11",
         "Apartamento",
         "Grajaú",
         "2",
         "1",
         "0",
         "70",
         "1500.0",
         "642.0",
         "74.0"
        ],
        [
         "12",
         "Apartamento",
         "Lins de Vasconcelos",
         "3",
         "1",
         "1",
         "90",
         "1500.0",
         "455.0",
         "14.0"
        ],
        [
         "13",
         "Apartamento",
         "Copacabana",
         "1",
         "0",
         "1",
         "40",
         "2000.0",
         "561.0",
         "50.0"
        ],
        [
         "14",
         "Quitinete",
         "Copacabana",
         "1",
         "0",
         "0",
         "27",
         "1800.0",
         "501.0",
         null
        ],
        [
         "15",
         "Apartamento",
         "Copacabana",
         "4",
         "3",
         "1",
         "243",
         "13000.0",
         "2000.0",
         "803.0"
        ],
        [
         "16",
         "Prédio Inteiro",
         "Botafogo",
         "0",
         "0",
         "0",
         "536",
         "28000.0",
         null,
         "3563.0"
        ],
        [
         "17",
         "Flat",
         "Botafogo",
         "3",
         "1",
         "1",
         "80",
         "3800.0",
         "1040.0",
         null
        ],
        [
         "18",
         "Casa de Condomínio",
         "Taquara",
         "3",
         "1",
         "1",
         "115",
         "2000.0",
         null,
         null
        ],
        [
         "19",
         "Apartamento",
         "Freguesia (Jacarepaguá)",
         "3",
         "0",
         "0",
         "54",
         "950.0",
         "300.0",
         "28.0"
        ],
        [
         "20",
         "Apartamento",
         "Barra da Tijuca",
         "2",
         "1",
         "1",
         "67",
         "1700.0",
         "589.0",
         "147.0"
        ],
        [
         "21",
         "Apartamento",
         "Tijuca",
         "2",
         "1",
         "0",
         "110",
         "1900.0",
         "700.0",
         "138.0"
        ],
        [
         "22",
         "Casa de Condomínio",
         "Barra da Tijuca",
         "4",
         "3",
         "2",
         "466",
         "7500.0",
         "2695.0",
         null
        ],
        [
         "23",
         "Apartamento",
         "Olaria",
         "3",
         "1",
         "0",
         "68",
         "1000.0",
         "670.0",
         null
        ],
        [
         "24",
         "Apartamento",
         "Tijuca",
         "2",
         "1",
         "0",
         "78",
         "2000.0",
         "700.0",
         null
        ],
        [
         "25",
         "Flat",
         "Leblon",
         "1",
         "0",
         "0",
         "56",
         "4500.0",
         "1900.0",
         "1500.0"
        ],
        [
         "26",
         "Conjunto Comercial/Sala",
         "São Cristóvão",
         "0",
         "1",
         "0",
         "25",
         "1100.0",
         "600.0",
         null
        ],
        [
         "27",
         "Apartamento",
         "Ipanema",
         "3",
         "1",
         "1",
         "125",
         "7000.0",
         "2100.0",
         "463.0"
        ],
        [
         "28",
         "Apartamento",
         "Tijuca",
         "1",
         "0",
         "0",
         "48",
         "750.0",
         "772.0",
         "25.0"
        ],
        [
         "29",
         "Loja/Salão",
         "Campo Grande",
         "0",
         "1",
         "0",
         "35",
         "1300.0",
         "950.0",
         null
        ],
        [
         "30",
         "Apartamento",
         "Barra da Tijuca",
         "3",
         "3",
         "1",
         "175",
         "4200.0",
         "1500.0",
         "500.0"
        ],
        [
         "31",
         "Casa",
         "Campo Grande",
         "4",
         "1",
         "2",
         "400",
         "12000.0",
         null,
         null
        ],
        [
         "32",
         "Apartamento",
         "Botafogo",
         "2",
         "1",
         "0",
         "76",
         "2500.0",
         "740.0",
         null
        ],
        [
         "33",
         "Apartamento",
         "Copacabana",
         "3",
         "1",
         "2",
         "378",
         "10000.0",
         "2150.0",
         "700.0"
        ],
        [
         "34",
         "Apartamento",
         "Copacabana",
         "3",
         "0",
         "0",
         "180",
         "5500.0",
         "1780.0",
         "420.0"
        ],
        [
         "35",
         "Conjunto Comercial/Sala",
         "Barra da Tijuca",
         "0",
         "1",
         "0",
         "22",
         "700.0",
         null,
         null
        ],
        [
         "36",
         "Apartamento",
         "Recreio dos Bandeirantes",
         "3",
         "1",
         "1",
         "105",
         "2300.0",
         "648.0",
         null
        ],
        [
         "37",
         "Apartamento",
         "Leblon",
         "3",
         "1",
         "0",
         "110",
         "3900.0",
         "1500.0",
         "120.0"
        ],
        [
         "38",
         "Conjunto Comercial/Sala",
         "Centro",
         "0",
         "5",
         "0",
         "1306",
         "117540.0",
         "19486.0",
         null
        ],
        [
         "39",
         "Quitinete",
         "Copacabana",
         "1",
         "0",
         "0",
         "27",
         "1300.0",
         "380.0",
         "53.0"
        ],
        [
         "40",
         "Apartamento",
         "Jardim Oceânico",
         "3",
         "3",
         "1",
         "200",
         "3500.0",
         "1780.0",
         "496.0"
        ],
        [
         "41",
         "Apartamento",
         "Barra da Tijuca",
         "3",
         "1",
         "2",
         "70",
         "1800.0",
         "1095.0",
         "140.0"
        ],
        [
         "42",
         "Conjunto Comercial/Sala",
         "Recreio dos Bandeirantes",
         "0",
         "1",
         "0",
         "50",
         "1500.0",
         "250.0",
         null
        ],
        [
         "43",
         "Apartamento",
         "Copacabana",
         "4",
         "1",
         "0",
         "244",
         "5000.0",
         "2500.0",
         "4100.0"
        ],
        [
         "44",
         "Apartamento",
         "Barra da Tijuca",
         "3",
         "2",
         "1",
         "110",
         "4500.0",
         "2000.0",
         "450.0"
        ],
        [
         "45",
         "Conjunto Comercial/Sala",
         "Centro",
         "0",
         "0",
         "0",
         "460",
         "7500.0",
         "4797.0",
         "2019.0"
        ],
        [
         "46",
         "Conjunto Comercial/Sala",
         "Centro",
         "0",
         "0",
         "0",
         "1170",
         "140456.0",
         "23409.0",
         "5852.0"
        ],
        [
         "47",
         "Apartamento",
         "Recreio dos Bandeirantes",
         "2",
         "2",
         "2",
         "90",
         "3000.0",
         "1340.0",
         null
        ],
        [
         "48",
         "Apartamento",
         "Recreio dos Bandeirantes",
         "3",
         "2",
         "2",
         "100",
         "2600.0",
         "380.0",
         null
        ],
        [
         "49",
         "Apartamento",
         "Barra da Tijuca",
         "3",
         "1",
         "1",
         "72",
         "2350.0",
         "600.0",
         "70.0"
        ]
       ],
       "shape": {
        "columns": 9,
        "rows": 32960
       }
      },
      "text/html": [
       "<div>\n",
       "<style scoped>\n",
       "    .dataframe tbody tr th:only-of-type {\n",
       "        vertical-align: middle;\n",
       "    }\n",
       "\n",
       "    .dataframe tbody tr th {\n",
       "        vertical-align: top;\n",
       "    }\n",
       "\n",
       "    .dataframe thead th {\n",
       "        text-align: right;\n",
       "    }\n",
       "</style>\n",
       "<table border=\"1\" class=\"dataframe\">\n",
       "  <thead>\n",
       "    <tr style=\"text-align: right;\">\n",
       "      <th></th>\n",
       "      <th>Tipo</th>\n",
       "      <th>Bairro</th>\n",
       "      <th>Quartos</th>\n",
       "      <th>Vagas</th>\n",
       "      <th>Suites</th>\n",
       "      <th>Area</th>\n",
       "      <th>Valor</th>\n",
       "      <th>Condominio</th>\n",
       "      <th>IPTU</th>\n",
       "    </tr>\n",
       "  </thead>\n",
       "  <tbody>\n",
       "    <tr>\n",
       "      <th>0</th>\n",
       "      <td>Quitinete</td>\n",
       "      <td>Copacabana</td>\n",
       "      <td>1</td>\n",
       "      <td>0</td>\n",
       "      <td>0</td>\n",
       "      <td>40</td>\n",
       "      <td>1700.0</td>\n",
       "      <td>500.0</td>\n",
       "      <td>60.0</td>\n",
       "    </tr>\n",
       "    <tr>\n",
       "      <th>1</th>\n",
       "      <td>Casa</td>\n",
       "      <td>Jardim Botânico</td>\n",
       "      <td>2</td>\n",
       "      <td>0</td>\n",
       "      <td>1</td>\n",
       "      <td>100</td>\n",
       "      <td>7000.0</td>\n",
       "      <td>NaN</td>\n",
       "      <td>NaN</td>\n",
       "    </tr>\n",
       "    <tr>\n",
       "      <th>2</th>\n",
       "      <td>Conjunto Comercial/Sala</td>\n",
       "      <td>Barra da Tijuca</td>\n",
       "      <td>0</td>\n",
       "      <td>4</td>\n",
       "      <td>0</td>\n",
       "      <td>150</td>\n",
       "      <td>5200.0</td>\n",
       "      <td>4020.0</td>\n",
       "      <td>1111.0</td>\n",
       "    </tr>\n",
       "    <tr>\n",
       "      <th>3</th>\n",
       "      <td>Apartamento</td>\n",
       "      <td>Centro</td>\n",
       "      <td>1</td>\n",
       "      <td>0</td>\n",
       "      <td>0</td>\n",
       "      <td>15</td>\n",
       "      <td>800.0</td>\n",
       "      <td>390.0</td>\n",
       "      <td>20.0</td>\n",
       "    </tr>\n",
       "    <tr>\n",
       "      <th>4</th>\n",
       "      <td>Apartamento</td>\n",
       "      <td>Higienópolis</td>\n",
       "      <td>1</td>\n",
       "      <td>0</td>\n",
       "      <td>0</td>\n",
       "      <td>48</td>\n",
       "      <td>800.0</td>\n",
       "      <td>230.0</td>\n",
       "      <td>NaN</td>\n",
       "    </tr>\n",
       "    <tr>\n",
       "      <th>...</th>\n",
       "      <td>...</td>\n",
       "      <td>...</td>\n",
       "      <td>...</td>\n",
       "      <td>...</td>\n",
       "      <td>...</td>\n",
       "      <td>...</td>\n",
       "      <td>...</td>\n",
       "      <td>...</td>\n",
       "      <td>...</td>\n",
       "    </tr>\n",
       "    <tr>\n",
       "      <th>32955</th>\n",
       "      <td>Quitinete</td>\n",
       "      <td>Centro</td>\n",
       "      <td>0</td>\n",
       "      <td>0</td>\n",
       "      <td>0</td>\n",
       "      <td>27</td>\n",
       "      <td>800.0</td>\n",
       "      <td>350.0</td>\n",
       "      <td>25.0</td>\n",
       "    </tr>\n",
       "    <tr>\n",
       "      <th>32956</th>\n",
       "      <td>Apartamento</td>\n",
       "      <td>Jacarepaguá</td>\n",
       "      <td>3</td>\n",
       "      <td>1</td>\n",
       "      <td>2</td>\n",
       "      <td>78</td>\n",
       "      <td>1800.0</td>\n",
       "      <td>800.0</td>\n",
       "      <td>40.0</td>\n",
       "    </tr>\n",
       "    <tr>\n",
       "      <th>32957</th>\n",
       "      <td>Apartamento</td>\n",
       "      <td>São Francisco Xavier</td>\n",
       "      <td>2</td>\n",
       "      <td>1</td>\n",
       "      <td>0</td>\n",
       "      <td>48</td>\n",
       "      <td>1400.0</td>\n",
       "      <td>509.0</td>\n",
       "      <td>37.0</td>\n",
       "    </tr>\n",
       "    <tr>\n",
       "      <th>32958</th>\n",
       "      <td>Apartamento</td>\n",
       "      <td>Leblon</td>\n",
       "      <td>2</td>\n",
       "      <td>0</td>\n",
       "      <td>0</td>\n",
       "      <td>70</td>\n",
       "      <td>3000.0</td>\n",
       "      <td>760.0</td>\n",
       "      <td>NaN</td>\n",
       "    </tr>\n",
       "    <tr>\n",
       "      <th>32959</th>\n",
       "      <td>Conjunto Comercial/Sala</td>\n",
       "      <td>Centro</td>\n",
       "      <td>0</td>\n",
       "      <td>0</td>\n",
       "      <td>0</td>\n",
       "      <td>250</td>\n",
       "      <td>6500.0</td>\n",
       "      <td>4206.0</td>\n",
       "      <td>1109.0</td>\n",
       "    </tr>\n",
       "  </tbody>\n",
       "</table>\n",
       "<p>32960 rows × 9 columns</p>\n",
       "</div>"
      ],
      "text/plain": [
       "                          Tipo                Bairro  Quartos  Vagas  Suites  \\\n",
       "0                    Quitinete            Copacabana        1      0       0   \n",
       "1                         Casa       Jardim Botânico        2      0       1   \n",
       "2      Conjunto Comercial/Sala       Barra da Tijuca        0      4       0   \n",
       "3                  Apartamento                Centro        1      0       0   \n",
       "4                  Apartamento          Higienópolis        1      0       0   \n",
       "...                        ...                   ...      ...    ...     ...   \n",
       "32955                Quitinete                Centro        0      0       0   \n",
       "32956              Apartamento           Jacarepaguá        3      1       2   \n",
       "32957              Apartamento  São Francisco Xavier        2      1       0   \n",
       "32958              Apartamento                Leblon        2      0       0   \n",
       "32959  Conjunto Comercial/Sala                Centro        0      0       0   \n",
       "\n",
       "       Area   Valor  Condominio    IPTU  \n",
       "0        40  1700.0       500.0    60.0  \n",
       "1       100  7000.0         NaN     NaN  \n",
       "2       150  5200.0      4020.0  1111.0  \n",
       "3        15   800.0       390.0    20.0  \n",
       "4        48   800.0       230.0     NaN  \n",
       "...     ...     ...         ...     ...  \n",
       "32955    27   800.0       350.0    25.0  \n",
       "32956    78  1800.0       800.0    40.0  \n",
       "32957    48  1400.0       509.0    37.0  \n",
       "32958    70  3000.0       760.0     NaN  \n",
       "32959   250  6500.0      4206.0  1109.0  \n",
       "\n",
       "[32960 rows x 9 columns]"
      ]
     },
     "execution_count": 1,
     "metadata": {},
     "output_type": "execute_result"
    }
   ],
   "source": [
    "import pandas as pd \n",
    "\n",
    "url = 'https://raw.githubusercontent.com/alura-cursos/pandas-conhecendo-a-biblioteca/main/base-de-dados/aluguel.csv'\n",
    "df = pd.read_csv(url, sep=';')\n",
    "\n",
    "df"
   ]
  },
  {
   "cell_type": "markdown",
   "id": "9c0d633c",
   "metadata": {},
   "source": [
    "Iremos iniciar serapando os imoveis comerciais dos imóveis residenciais."
   ]
  },
  {
   "cell_type": "code",
   "execution_count": 2,
   "id": "3b31f28f",
   "metadata": {},
   "outputs": [
    {
     "data": {
      "text/plain": [
       "array(['Quitinete', 'Casa', 'Conjunto Comercial/Sala', 'Apartamento',\n",
       "       'Casa de Condomínio', 'Prédio Inteiro', 'Flat', 'Loja/Salão',\n",
       "       'Galpão/Depósito/Armazém', 'Casa Comercial', 'Casa de Vila',\n",
       "       'Terreno Padrão', 'Box/Garagem', 'Loft',\n",
       "       'Loja Shopping/ Ct Comercial', 'Chácara', 'Loteamento/Condomínio',\n",
       "       'Sítio', 'Pousada/Chalé', 'Studio', 'Hotel', 'Indústria'],\n",
       "      dtype=object)"
      ]
     },
     "execution_count": 2,
     "metadata": {},
     "output_type": "execute_result"
    }
   ],
   "source": [
    "#Usamos o método unique para ver o que tem na coluna tipo.\n",
    "df.Tipo.unique()"
   ]
  },
  {
   "cell_type": "code",
   "execution_count": 3,
   "id": "4ae36723",
   "metadata": {},
   "outputs": [],
   "source": [
    "#Iremos criar um lista com todos os imveis residencias.\n",
    "imoveis_residenciais = [\n",
    "    'Quitinete',\n",
    "    'Casa',\n",
    "    'Apartamento',\n",
    "    'Casa de Condomínio',\n",
    "    'Flat',\n",
    "    'Casa de Vila',\n",
    "    'Loft',\n",
    "    'Chácara',\n",
    "    'Sítio'\n",
    "]"
   ]
  },
  {
   "cell_type": "code",
   "execution_count": 4,
   "id": "a8c17933",
   "metadata": {},
   "outputs": [
    {
     "data": {
      "application/vnd.microsoft.datawrangler.viewer.v0+json": {
       "columns": [
        {
         "name": "index",
         "rawType": "int64",
         "type": "integer"
        },
        {
         "name": "Tipo",
         "rawType": "object",
         "type": "string"
        },
        {
         "name": "Bairro",
         "rawType": "object",
         "type": "string"
        },
        {
         "name": "Quartos",
         "rawType": "int64",
         "type": "integer"
        },
        {
         "name": "Vagas",
         "rawType": "int64",
         "type": "integer"
        },
        {
         "name": "Suites",
         "rawType": "int64",
         "type": "integer"
        },
        {
         "name": "Area",
         "rawType": "int64",
         "type": "integer"
        },
        {
         "name": "Valor",
         "rawType": "float64",
         "type": "float"
        },
        {
         "name": "Condominio",
         "rawType": "float64",
         "type": "float"
        },
        {
         "name": "IPTU",
         "rawType": "float64",
         "type": "float"
        }
       ],
       "ref": "6bc60443-090d-48c7-aa41-9c33d38d101b",
       "rows": [
        [
         "0",
         "Quitinete",
         "Copacabana",
         "1",
         "0",
         "0",
         "40",
         "1700.0",
         "500.0",
         "60.0"
        ],
        [
         "1",
         "Casa",
         "Jardim Botânico",
         "2",
         "0",
         "1",
         "100",
         "7000.0",
         null,
         null
        ],
        [
         "3",
         "Apartamento",
         "Centro",
         "1",
         "0",
         "0",
         "15",
         "800.0",
         "390.0",
         "20.0"
        ],
        [
         "4",
         "Apartamento",
         "Higienópolis",
         "1",
         "0",
         "0",
         "48",
         "800.0",
         "230.0",
         null
        ],
        [
         "5",
         "Apartamento",
         "Vista Alegre",
         "3",
         "1",
         "0",
         "70",
         "1200.0",
         null,
         null
        ],
        [
         "6",
         "Apartamento",
         "Cachambi",
         "2",
         "0",
         "0",
         "50",
         "1300.0",
         "301.0",
         "17.0"
        ],
        [
         "7",
         "Casa de Condomínio",
         "Barra da Tijuca",
         "5",
         "4",
         "5",
         "750",
         "22000.0",
         null,
         null
        ],
        [
         "8",
         "Casa de Condomínio",
         "Ramos",
         "2",
         "2",
         "0",
         "65",
         "1000.0",
         null,
         null
        ],
        [
         "10",
         "Apartamento",
         "Centro",
         "1",
         "0",
         "0",
         "36",
         "1200.0",
         null,
         null
        ],
        [
         "11",
         "Apartamento",
         "Grajaú",
         "2",
         "1",
         "0",
         "70",
         "1500.0",
         "642.0",
         "74.0"
        ],
        [
         "12",
         "Apartamento",
         "Lins de Vasconcelos",
         "3",
         "1",
         "1",
         "90",
         "1500.0",
         "455.0",
         "14.0"
        ],
        [
         "13",
         "Apartamento",
         "Copacabana",
         "1",
         "0",
         "1",
         "40",
         "2000.0",
         "561.0",
         "50.0"
        ],
        [
         "14",
         "Quitinete",
         "Copacabana",
         "1",
         "0",
         "0",
         "27",
         "1800.0",
         "501.0",
         null
        ],
        [
         "15",
         "Apartamento",
         "Copacabana",
         "4",
         "3",
         "1",
         "243",
         "13000.0",
         "2000.0",
         "803.0"
        ],
        [
         "17",
         "Flat",
         "Botafogo",
         "3",
         "1",
         "1",
         "80",
         "3800.0",
         "1040.0",
         null
        ],
        [
         "18",
         "Casa de Condomínio",
         "Taquara",
         "3",
         "1",
         "1",
         "115",
         "2000.0",
         null,
         null
        ],
        [
         "19",
         "Apartamento",
         "Freguesia (Jacarepaguá)",
         "3",
         "0",
         "0",
         "54",
         "950.0",
         "300.0",
         "28.0"
        ],
        [
         "20",
         "Apartamento",
         "Barra da Tijuca",
         "2",
         "1",
         "1",
         "67",
         "1700.0",
         "589.0",
         "147.0"
        ],
        [
         "21",
         "Apartamento",
         "Tijuca",
         "2",
         "1",
         "0",
         "110",
         "1900.0",
         "700.0",
         "138.0"
        ],
        [
         "22",
         "Casa de Condomínio",
         "Barra da Tijuca",
         "4",
         "3",
         "2",
         "466",
         "7500.0",
         "2695.0",
         null
        ],
        [
         "23",
         "Apartamento",
         "Olaria",
         "3",
         "1",
         "0",
         "68",
         "1000.0",
         "670.0",
         null
        ],
        [
         "24",
         "Apartamento",
         "Tijuca",
         "2",
         "1",
         "0",
         "78",
         "2000.0",
         "700.0",
         null
        ],
        [
         "25",
         "Flat",
         "Leblon",
         "1",
         "0",
         "0",
         "56",
         "4500.0",
         "1900.0",
         "1500.0"
        ],
        [
         "27",
         "Apartamento",
         "Ipanema",
         "3",
         "1",
         "1",
         "125",
         "7000.0",
         "2100.0",
         "463.0"
        ],
        [
         "28",
         "Apartamento",
         "Tijuca",
         "1",
         "0",
         "0",
         "48",
         "750.0",
         "772.0",
         "25.0"
        ],
        [
         "30",
         "Apartamento",
         "Barra da Tijuca",
         "3",
         "3",
         "1",
         "175",
         "4200.0",
         "1500.0",
         "500.0"
        ],
        [
         "31",
         "Casa",
         "Campo Grande",
         "4",
         "1",
         "2",
         "400",
         "12000.0",
         null,
         null
        ],
        [
         "32",
         "Apartamento",
         "Botafogo",
         "2",
         "1",
         "0",
         "76",
         "2500.0",
         "740.0",
         null
        ],
        [
         "33",
         "Apartamento",
         "Copacabana",
         "3",
         "1",
         "2",
         "378",
         "10000.0",
         "2150.0",
         "700.0"
        ],
        [
         "34",
         "Apartamento",
         "Copacabana",
         "3",
         "0",
         "0",
         "180",
         "5500.0",
         "1780.0",
         "420.0"
        ],
        [
         "36",
         "Apartamento",
         "Recreio dos Bandeirantes",
         "3",
         "1",
         "1",
         "105",
         "2300.0",
         "648.0",
         null
        ],
        [
         "37",
         "Apartamento",
         "Leblon",
         "3",
         "1",
         "0",
         "110",
         "3900.0",
         "1500.0",
         "120.0"
        ],
        [
         "39",
         "Quitinete",
         "Copacabana",
         "1",
         "0",
         "0",
         "27",
         "1300.0",
         "380.0",
         "53.0"
        ],
        [
         "40",
         "Apartamento",
         "Jardim Oceânico",
         "3",
         "3",
         "1",
         "200",
         "3500.0",
         "1780.0",
         "496.0"
        ],
        [
         "41",
         "Apartamento",
         "Barra da Tijuca",
         "3",
         "1",
         "2",
         "70",
         "1800.0",
         "1095.0",
         "140.0"
        ],
        [
         "43",
         "Apartamento",
         "Copacabana",
         "4",
         "1",
         "0",
         "244",
         "5000.0",
         "2500.0",
         "4100.0"
        ],
        [
         "44",
         "Apartamento",
         "Barra da Tijuca",
         "3",
         "2",
         "1",
         "110",
         "4500.0",
         "2000.0",
         "450.0"
        ],
        [
         "47",
         "Apartamento",
         "Recreio dos Bandeirantes",
         "2",
         "2",
         "2",
         "90",
         "3000.0",
         "1340.0",
         null
        ],
        [
         "48",
         "Apartamento",
         "Recreio dos Bandeirantes",
         "3",
         "2",
         "2",
         "100",
         "2600.0",
         "380.0",
         null
        ],
        [
         "49",
         "Apartamento",
         "Barra da Tijuca",
         "3",
         "1",
         "1",
         "72",
         "2350.0",
         "600.0",
         "70.0"
        ],
        [
         "50",
         "Apartamento",
         "Humaitá",
         "2",
         "2",
         "1",
         "180",
         "4000.0",
         "2500.0",
         "300.0"
        ],
        [
         "51",
         "Apartamento",
         "Recreio dos Bandeirantes",
         "3",
         "1",
         "2",
         "92",
         "2300.0",
         "840.0",
         "200.0"
        ],
        [
         "54",
         "Apartamento",
         "Centro",
         "1",
         "0",
         "0",
         "27",
         "750.0",
         "371.0",
         "19.0"
        ],
        [
         "55",
         "Apartamento",
         "Ipanema",
         "1",
         "0",
         "0",
         "35",
         "2000.0",
         "650.0",
         "75.0"
        ],
        [
         "56",
         "Apartamento",
         "Ipanema",
         "1",
         "0",
         "0",
         "38",
         "1400.0",
         "530.0",
         "77.0"
        ],
        [
         "57",
         "Apartamento",
         "Recreio dos Bandeirantes",
         "2",
         "1",
         "2",
         "83",
         "1600.0",
         "1160.0",
         "157.0"
        ],
        [
         "59",
         "Casa de Condomínio",
         "Barra da Tijuca",
         "5",
         "10",
         "5",
         "1600",
         "25000.0",
         "1600.0",
         null
        ],
        [
         "60",
         "Apartamento",
         "Barra da Tijuca",
         "4",
         "3",
         "3",
         "153",
         "6500.0",
         "2300.0",
         "434.0"
        ],
        [
         "62",
         "Apartamento",
         "Península",
         "4",
         "3",
         "4",
         "267",
         "18000.0",
         "3100.0",
         "400.0"
        ],
        [
         "63",
         "Apartamento",
         "Ipanema",
         "3",
         "1",
         "0",
         "87",
         "3200.0",
         "1305.0",
         "217.0"
        ]
       ],
       "shape": {
        "columns": 9,
        "rows": 23118
       }
      },
      "text/html": [
       "<div>\n",
       "<style scoped>\n",
       "    .dataframe tbody tr th:only-of-type {\n",
       "        vertical-align: middle;\n",
       "    }\n",
       "\n",
       "    .dataframe tbody tr th {\n",
       "        vertical-align: top;\n",
       "    }\n",
       "\n",
       "    .dataframe thead th {\n",
       "        text-align: right;\n",
       "    }\n",
       "</style>\n",
       "<table border=\"1\" class=\"dataframe\">\n",
       "  <thead>\n",
       "    <tr style=\"text-align: right;\">\n",
       "      <th></th>\n",
       "      <th>Tipo</th>\n",
       "      <th>Bairro</th>\n",
       "      <th>Quartos</th>\n",
       "      <th>Vagas</th>\n",
       "      <th>Suites</th>\n",
       "      <th>Area</th>\n",
       "      <th>Valor</th>\n",
       "      <th>Condominio</th>\n",
       "      <th>IPTU</th>\n",
       "    </tr>\n",
       "  </thead>\n",
       "  <tbody>\n",
       "    <tr>\n",
       "      <th>0</th>\n",
       "      <td>Quitinete</td>\n",
       "      <td>Copacabana</td>\n",
       "      <td>1</td>\n",
       "      <td>0</td>\n",
       "      <td>0</td>\n",
       "      <td>40</td>\n",
       "      <td>1700.0</td>\n",
       "      <td>500.0</td>\n",
       "      <td>60.0</td>\n",
       "    </tr>\n",
       "    <tr>\n",
       "      <th>1</th>\n",
       "      <td>Casa</td>\n",
       "      <td>Jardim Botânico</td>\n",
       "      <td>2</td>\n",
       "      <td>0</td>\n",
       "      <td>1</td>\n",
       "      <td>100</td>\n",
       "      <td>7000.0</td>\n",
       "      <td>NaN</td>\n",
       "      <td>NaN</td>\n",
       "    </tr>\n",
       "    <tr>\n",
       "      <th>3</th>\n",
       "      <td>Apartamento</td>\n",
       "      <td>Centro</td>\n",
       "      <td>1</td>\n",
       "      <td>0</td>\n",
       "      <td>0</td>\n",
       "      <td>15</td>\n",
       "      <td>800.0</td>\n",
       "      <td>390.0</td>\n",
       "      <td>20.0</td>\n",
       "    </tr>\n",
       "    <tr>\n",
       "      <th>4</th>\n",
       "      <td>Apartamento</td>\n",
       "      <td>Higienópolis</td>\n",
       "      <td>1</td>\n",
       "      <td>0</td>\n",
       "      <td>0</td>\n",
       "      <td>48</td>\n",
       "      <td>800.0</td>\n",
       "      <td>230.0</td>\n",
       "      <td>NaN</td>\n",
       "    </tr>\n",
       "    <tr>\n",
       "      <th>5</th>\n",
       "      <td>Apartamento</td>\n",
       "      <td>Vista Alegre</td>\n",
       "      <td>3</td>\n",
       "      <td>1</td>\n",
       "      <td>0</td>\n",
       "      <td>70</td>\n",
       "      <td>1200.0</td>\n",
       "      <td>NaN</td>\n",
       "      <td>NaN</td>\n",
       "    </tr>\n",
       "    <tr>\n",
       "      <th>...</th>\n",
       "      <td>...</td>\n",
       "      <td>...</td>\n",
       "      <td>...</td>\n",
       "      <td>...</td>\n",
       "      <td>...</td>\n",
       "      <td>...</td>\n",
       "      <td>...</td>\n",
       "      <td>...</td>\n",
       "      <td>...</td>\n",
       "    </tr>\n",
       "    <tr>\n",
       "      <th>32953</th>\n",
       "      <td>Apartamento</td>\n",
       "      <td>Méier</td>\n",
       "      <td>2</td>\n",
       "      <td>0</td>\n",
       "      <td>0</td>\n",
       "      <td>70</td>\n",
       "      <td>900.0</td>\n",
       "      <td>490.0</td>\n",
       "      <td>48.0</td>\n",
       "    </tr>\n",
       "    <tr>\n",
       "      <th>32955</th>\n",
       "      <td>Quitinete</td>\n",
       "      <td>Centro</td>\n",
       "      <td>0</td>\n",
       "      <td>0</td>\n",
       "      <td>0</td>\n",
       "      <td>27</td>\n",
       "      <td>800.0</td>\n",
       "      <td>350.0</td>\n",
       "      <td>25.0</td>\n",
       "    </tr>\n",
       "    <tr>\n",
       "      <th>32956</th>\n",
       "      <td>Apartamento</td>\n",
       "      <td>Jacarepaguá</td>\n",
       "      <td>3</td>\n",
       "      <td>1</td>\n",
       "      <td>2</td>\n",
       "      <td>78</td>\n",
       "      <td>1800.0</td>\n",
       "      <td>800.0</td>\n",
       "      <td>40.0</td>\n",
       "    </tr>\n",
       "    <tr>\n",
       "      <th>32957</th>\n",
       "      <td>Apartamento</td>\n",
       "      <td>São Francisco Xavier</td>\n",
       "      <td>2</td>\n",
       "      <td>1</td>\n",
       "      <td>0</td>\n",
       "      <td>48</td>\n",
       "      <td>1400.0</td>\n",
       "      <td>509.0</td>\n",
       "      <td>37.0</td>\n",
       "    </tr>\n",
       "    <tr>\n",
       "      <th>32958</th>\n",
       "      <td>Apartamento</td>\n",
       "      <td>Leblon</td>\n",
       "      <td>2</td>\n",
       "      <td>0</td>\n",
       "      <td>0</td>\n",
       "      <td>70</td>\n",
       "      <td>3000.0</td>\n",
       "      <td>760.0</td>\n",
       "      <td>NaN</td>\n",
       "    </tr>\n",
       "  </tbody>\n",
       "</table>\n",
       "<p>23118 rows × 9 columns</p>\n",
       "</div>"
      ],
      "text/plain": [
       "              Tipo                Bairro  Quartos  Vagas  Suites  Area  \\\n",
       "0        Quitinete            Copacabana        1      0       0    40   \n",
       "1             Casa       Jardim Botânico        2      0       1   100   \n",
       "3      Apartamento                Centro        1      0       0    15   \n",
       "4      Apartamento          Higienópolis        1      0       0    48   \n",
       "5      Apartamento          Vista Alegre        3      1       0    70   \n",
       "...            ...                   ...      ...    ...     ...   ...   \n",
       "32953  Apartamento                 Méier        2      0       0    70   \n",
       "32955    Quitinete                Centro        0      0       0    27   \n",
       "32956  Apartamento           Jacarepaguá        3      1       2    78   \n",
       "32957  Apartamento  São Francisco Xavier        2      1       0    48   \n",
       "32958  Apartamento                Leblon        2      0       0    70   \n",
       "\n",
       "        Valor  Condominio  IPTU  \n",
       "0      1700.0       500.0  60.0  \n",
       "1      7000.0         NaN   NaN  \n",
       "3       800.0       390.0  20.0  \n",
       "4       800.0       230.0   NaN  \n",
       "5      1200.0         NaN   NaN  \n",
       "...       ...         ...   ...  \n",
       "32953   900.0       490.0  48.0  \n",
       "32955   800.0       350.0  25.0  \n",
       "32956  1800.0       800.0  40.0  \n",
       "32957  1400.0       509.0  37.0  \n",
       "32958  3000.0       760.0   NaN  \n",
       "\n",
       "[23118 rows x 9 columns]"
      ]
     },
     "execution_count": 4,
     "metadata": {},
     "output_type": "execute_result"
    }
   ],
   "source": [
    "#Estamos consultando os imóveis que tem os mesmos elementos da lista na coluna tipo e criando um novo dataframe.\n",
    "residenciais = df.query('@imoveis_residenciais in Tipo')\n",
    "residenciais"
   ]
  },
  {
   "cell_type": "code",
   "execution_count": 5,
   "id": "38246894",
   "metadata": {},
   "outputs": [
    {
     "data": {
      "application/vnd.microsoft.datawrangler.viewer.v0+json": {
       "columns": [
        {
         "name": "index",
         "rawType": "int64",
         "type": "integer"
        },
        {
         "name": "Tipo",
         "rawType": "object",
         "type": "string"
        },
        {
         "name": "Bairro",
         "rawType": "object",
         "type": "string"
        },
        {
         "name": "Quartos",
         "rawType": "int64",
         "type": "integer"
        },
        {
         "name": "Vagas",
         "rawType": "int64",
         "type": "integer"
        },
        {
         "name": "Suites",
         "rawType": "int64",
         "type": "integer"
        },
        {
         "name": "Area",
         "rawType": "int64",
         "type": "integer"
        },
        {
         "name": "Valor",
         "rawType": "float64",
         "type": "float"
        },
        {
         "name": "Condominio",
         "rawType": "float64",
         "type": "float"
        },
        {
         "name": "IPTU",
         "rawType": "float64",
         "type": "float"
        }
       ],
       "ref": "2d34bf97-da3a-4c24-9cf1-ffe38ee07ff3",
       "rows": [
        [
         "2",
         "Conjunto Comercial/Sala",
         "Barra da Tijuca",
         "0",
         "4",
         "0",
         "150",
         "5200.0",
         "4020.0",
         "1111.0"
        ],
        [
         "9",
         "Conjunto Comercial/Sala",
         "Centro",
         "0",
         "3",
         "0",
         "695",
         "35000.0",
         "19193.0",
         "3030.0"
        ],
        [
         "16",
         "Prédio Inteiro",
         "Botafogo",
         "0",
         "0",
         "0",
         "536",
         "28000.0",
         null,
         "3563.0"
        ],
        [
         "26",
         "Conjunto Comercial/Sala",
         "São Cristóvão",
         "0",
         "1",
         "0",
         "25",
         "1100.0",
         "600.0",
         null
        ],
        [
         "29",
         "Loja/Salão",
         "Campo Grande",
         "0",
         "1",
         "0",
         "35",
         "1300.0",
         "950.0",
         null
        ],
        [
         "35",
         "Conjunto Comercial/Sala",
         "Barra da Tijuca",
         "0",
         "1",
         "0",
         "22",
         "700.0",
         null,
         null
        ],
        [
         "38",
         "Conjunto Comercial/Sala",
         "Centro",
         "0",
         "5",
         "0",
         "1306",
         "117540.0",
         "19486.0",
         null
        ],
        [
         "42",
         "Conjunto Comercial/Sala",
         "Recreio dos Bandeirantes",
         "0",
         "1",
         "0",
         "50",
         "1500.0",
         "250.0",
         null
        ],
        [
         "45",
         "Conjunto Comercial/Sala",
         "Centro",
         "0",
         "0",
         "0",
         "460",
         "7500.0",
         "4797.0",
         "2019.0"
        ],
        [
         "46",
         "Conjunto Comercial/Sala",
         "Centro",
         "0",
         "0",
         "0",
         "1170",
         "140456.0",
         "23409.0",
         "5852.0"
        ],
        [
         "52",
         "Conjunto Comercial/Sala",
         "Centro",
         "0",
         "1",
         "0",
         "70",
         "1900.0",
         "1080.0",
         "251.0"
        ],
        [
         "53",
         "Conjunto Comercial/Sala",
         "Jardim Botânico",
         "0",
         "1",
         "0",
         "50",
         "4000.0",
         "1160.0",
         "200.0"
        ],
        [
         "58",
         "Loja/Salão",
         "Copacabana",
         "0",
         "0",
         "0",
         "34",
         "2000.0",
         "735.0",
         null
        ],
        [
         "61",
         "Conjunto Comercial/Sala",
         "Recreio dos Bandeirantes",
         "0",
         "0",
         "0",
         "84",
         "1500.0",
         "1546.0",
         null
        ],
        [
         "69",
         "Conjunto Comercial/Sala",
         "Méier",
         "0",
         "0",
         "0",
         "32",
         "700.0",
         "380.0",
         "56.0"
        ],
        [
         "72",
         "Conjunto Comercial/Sala",
         "Centro",
         "0",
         "0",
         "0",
         "1",
         "2850.0",
         "2050.0",
         null
        ],
        [
         "78",
         "Conjunto Comercial/Sala",
         "Barra da Tijuca",
         "0",
         "1",
         "0",
         "33",
         "700.0",
         "1010.0",
         "56.0"
        ],
        [
         "79",
         "Conjunto Comercial/Sala",
         "Jardim Botânico",
         "0",
         "1",
         "0",
         "24",
         "2500.0",
         "682.0",
         "112.0"
        ],
        [
         "80",
         "Galpão/Depósito/Armazém",
         "Vargem Grande",
         "0",
         "6",
         "0",
         "2236",
         "40000.0",
         null,
         null
        ],
        [
         "81",
         "Conjunto Comercial/Sala",
         "Barra da Tijuca",
         "0",
         "1",
         "0",
         "32",
         "850.0",
         "719.0",
         null
        ],
        [
         "83",
         "Casa Comercial",
         "Botafogo",
         "0",
         "0",
         "0",
         "140",
         "7000.0",
         null,
         "137.0"
        ],
        [
         "84",
         "Galpão/Depósito/Armazém",
         "Maria da Graça",
         "0",
         "3",
         "0",
         "1000",
         "9800.0",
         null,
         "820.0"
        ],
        [
         "86",
         "Conjunto Comercial/Sala",
         "Centro",
         "0",
         "1",
         "0",
         "390",
         "25397.0",
         "12090.0",
         "1318.0"
        ],
        [
         "87",
         "Conjunto Comercial/Sala",
         "Centro",
         "0",
         "0",
         "0",
         "320",
         "12000.0",
         "3740.0",
         "1541.0"
        ],
        [
         "103",
         "Loja/Salão",
         "Barra da Tijuca",
         "0",
         "0",
         "0",
         "36",
         "5300.0",
         "2114.0",
         "839.0"
        ],
        [
         "105",
         "Conjunto Comercial/Sala",
         "Centro",
         "0",
         "0",
         "0",
         "95",
         "3800.0",
         "1688.0",
         "392.0"
        ],
        [
         "108",
         "Conjunto Comercial/Sala",
         "Centro",
         "0",
         "0",
         "0",
         "310",
         "17050.0",
         "5950.0",
         "1917.0"
        ],
        [
         "112",
         "Conjunto Comercial/Sala",
         "Barra da Tijuca",
         "0",
         "4",
         "0",
         "145",
         "9000.0",
         "6400.0",
         null
        ],
        [
         "115",
         "Conjunto Comercial/Sala",
         "Barra da Tijuca",
         "0",
         "2",
         "0",
         "142",
         "4000.0",
         "5024.0",
         "12415.0"
        ],
        [
         "116",
         "Conjunto Comercial/Sala",
         "Botafogo",
         "0",
         "3",
         "0",
         "241",
         "22000.0",
         "9384.0",
         null
        ],
        [
         "120",
         "Galpão/Depósito/Armazém",
         "Bonsucesso",
         "0",
         "10",
         "0",
         "13010",
         "100000.0",
         null,
         "12000.0"
        ],
        [
         "127",
         "Conjunto Comercial/Sala",
         "Centro",
         "0",
         "0",
         "0",
         "40",
         "1500.0",
         "637.0",
         "84.0"
        ],
        [
         "128",
         "Conjunto Comercial/Sala",
         "Centro",
         "0",
         "0",
         "0",
         "48",
         "1400.0",
         "729.0",
         "157.0"
        ],
        [
         "129",
         "Conjunto Comercial/Sala",
         "Santo Cristo",
         "0",
         "64",
         "0",
         "4800",
         "312000.0",
         "92000.0",
         null
        ],
        [
         "130",
         "Conjunto Comercial/Sala",
         "Largo do Machado",
         "0",
         "0",
         "0",
         "30",
         "800.0",
         "592.0",
         "162.0"
        ],
        [
         "136",
         "Conjunto Comercial/Sala",
         "Centro",
         "0",
         "0",
         "0",
         "55",
         "900.0",
         "1240.0",
         "240.0"
        ],
        [
         "144",
         "Conjunto Comercial/Sala",
         "Centro",
         "0",
         "0",
         "0",
         "212",
         "13000.0",
         "4700.0",
         "1350.0"
        ],
        [
         "145",
         "Conjunto Comercial/Sala",
         "Freguesia (Jacarepaguá)",
         "0",
         "0",
         "0",
         "22",
         "490.0",
         "450.0",
         "525.0"
        ],
        [
         "146",
         "Conjunto Comercial/Sala",
         "Barra da Tijuca",
         "0",
         "1",
         "0",
         "20",
         "445.0",
         "791.0",
         "1041.0"
        ],
        [
         "149",
         "Galpão/Depósito/Armazém",
         "Quintino Bocaiúva",
         "0",
         "0",
         "0",
         "550",
         "4300.0",
         null,
         null
        ],
        [
         "150",
         "Conjunto Comercial/Sala",
         "Campo Grande",
         "0",
         "0",
         "0",
         "20",
         "800.0",
         null,
         null
        ],
        [
         "151",
         "Conjunto Comercial/Sala",
         "São Francisco Xavier",
         "0",
         "1",
         "0",
         "27",
         "1500.0",
         "580.0",
         null
        ],
        [
         "155",
         "Conjunto Comercial/Sala",
         "Barra da Tijuca",
         "0",
         "1",
         "0",
         "32",
         "1300.0",
         "935.0",
         "217.0"
        ],
        [
         "156",
         "Conjunto Comercial/Sala",
         "Barra da Tijuca",
         "0",
         "0",
         "0",
         "28",
         "800.0",
         "550.0",
         null
        ],
        [
         "157",
         "Conjunto Comercial/Sala",
         "Barra da Tijuca",
         "0",
         "1",
         "0",
         "45",
         "1600.0",
         "1100.0",
         "350.0"
        ],
        [
         "159",
         "Terreno Padrão",
         "Barra da Tijuca",
         "0",
         "0",
         "0",
         "1110",
         "140000.0",
         null,
         null
        ],
        [
         "161",
         "Conjunto Comercial/Sala",
         "Centro",
         "0",
         "0",
         "0",
         "154",
         "3900.0",
         "5100.0",
         "559.0"
        ],
        [
         "168",
         "Conjunto Comercial/Sala",
         "Barra da Tijuca",
         "0",
         "0",
         "0",
         "21",
         "1200.0",
         "588.0",
         null
        ],
        [
         "169",
         "Conjunto Comercial/Sala",
         "Freguesia (Jacarepaguá)",
         "0",
         "0",
         "0",
         "22",
         "500.0",
         "600.0",
         "85.0"
        ],
        [
         "171",
         "Conjunto Comercial/Sala",
         "Recreio dos Bandeirantes",
         "0",
         "1",
         "0",
         "48",
         "2000.0",
         "1064.0",
         null
        ]
       ],
       "shape": {
        "columns": 9,
        "rows": 9842
       }
      },
      "text/html": [
       "<div>\n",
       "<style scoped>\n",
       "    .dataframe tbody tr th:only-of-type {\n",
       "        vertical-align: middle;\n",
       "    }\n",
       "\n",
       "    .dataframe tbody tr th {\n",
       "        vertical-align: top;\n",
       "    }\n",
       "\n",
       "    .dataframe thead th {\n",
       "        text-align: right;\n",
       "    }\n",
       "</style>\n",
       "<table border=\"1\" class=\"dataframe\">\n",
       "  <thead>\n",
       "    <tr style=\"text-align: right;\">\n",
       "      <th></th>\n",
       "      <th>Tipo</th>\n",
       "      <th>Bairro</th>\n",
       "      <th>Quartos</th>\n",
       "      <th>Vagas</th>\n",
       "      <th>Suites</th>\n",
       "      <th>Area</th>\n",
       "      <th>Valor</th>\n",
       "      <th>Condominio</th>\n",
       "      <th>IPTU</th>\n",
       "    </tr>\n",
       "  </thead>\n",
       "  <tbody>\n",
       "    <tr>\n",
       "      <th>2</th>\n",
       "      <td>Conjunto Comercial/Sala</td>\n",
       "      <td>Barra da Tijuca</td>\n",
       "      <td>0</td>\n",
       "      <td>4</td>\n",
       "      <td>0</td>\n",
       "      <td>150</td>\n",
       "      <td>5200.0</td>\n",
       "      <td>4020.0</td>\n",
       "      <td>1111.0</td>\n",
       "    </tr>\n",
       "    <tr>\n",
       "      <th>9</th>\n",
       "      <td>Conjunto Comercial/Sala</td>\n",
       "      <td>Centro</td>\n",
       "      <td>0</td>\n",
       "      <td>3</td>\n",
       "      <td>0</td>\n",
       "      <td>695</td>\n",
       "      <td>35000.0</td>\n",
       "      <td>19193.0</td>\n",
       "      <td>3030.0</td>\n",
       "    </tr>\n",
       "    <tr>\n",
       "      <th>16</th>\n",
       "      <td>Prédio Inteiro</td>\n",
       "      <td>Botafogo</td>\n",
       "      <td>0</td>\n",
       "      <td>0</td>\n",
       "      <td>0</td>\n",
       "      <td>536</td>\n",
       "      <td>28000.0</td>\n",
       "      <td>NaN</td>\n",
       "      <td>3563.0</td>\n",
       "    </tr>\n",
       "    <tr>\n",
       "      <th>26</th>\n",
       "      <td>Conjunto Comercial/Sala</td>\n",
       "      <td>São Cristóvão</td>\n",
       "      <td>0</td>\n",
       "      <td>1</td>\n",
       "      <td>0</td>\n",
       "      <td>25</td>\n",
       "      <td>1100.0</td>\n",
       "      <td>600.0</td>\n",
       "      <td>NaN</td>\n",
       "    </tr>\n",
       "    <tr>\n",
       "      <th>29</th>\n",
       "      <td>Loja/Salão</td>\n",
       "      <td>Campo Grande</td>\n",
       "      <td>0</td>\n",
       "      <td>1</td>\n",
       "      <td>0</td>\n",
       "      <td>35</td>\n",
       "      <td>1300.0</td>\n",
       "      <td>950.0</td>\n",
       "      <td>NaN</td>\n",
       "    </tr>\n",
       "    <tr>\n",
       "      <th>...</th>\n",
       "      <td>...</td>\n",
       "      <td>...</td>\n",
       "      <td>...</td>\n",
       "      <td>...</td>\n",
       "      <td>...</td>\n",
       "      <td>...</td>\n",
       "      <td>...</td>\n",
       "      <td>...</td>\n",
       "      <td>...</td>\n",
       "    </tr>\n",
       "    <tr>\n",
       "      <th>32942</th>\n",
       "      <td>Conjunto Comercial/Sala</td>\n",
       "      <td>Barra da Tijuca</td>\n",
       "      <td>0</td>\n",
       "      <td>1</td>\n",
       "      <td>0</td>\n",
       "      <td>55</td>\n",
       "      <td>2000.0</td>\n",
       "      <td>1096.0</td>\n",
       "      <td>NaN</td>\n",
       "    </tr>\n",
       "    <tr>\n",
       "      <th>32946</th>\n",
       "      <td>Conjunto Comercial/Sala</td>\n",
       "      <td>Centro</td>\n",
       "      <td>0</td>\n",
       "      <td>0</td>\n",
       "      <td>0</td>\n",
       "      <td>140</td>\n",
       "      <td>4000.0</td>\n",
       "      <td>1412.0</td>\n",
       "      <td>496.0</td>\n",
       "    </tr>\n",
       "    <tr>\n",
       "      <th>32948</th>\n",
       "      <td>Conjunto Comercial/Sala</td>\n",
       "      <td>Centro</td>\n",
       "      <td>0</td>\n",
       "      <td>0</td>\n",
       "      <td>0</td>\n",
       "      <td>32</td>\n",
       "      <td>600.0</td>\n",
       "      <td>1035.0</td>\n",
       "      <td>83.0</td>\n",
       "    </tr>\n",
       "    <tr>\n",
       "      <th>32954</th>\n",
       "      <td>Box/Garagem</td>\n",
       "      <td>Centro</td>\n",
       "      <td>0</td>\n",
       "      <td>0</td>\n",
       "      <td>0</td>\n",
       "      <td>755</td>\n",
       "      <td>14000.0</td>\n",
       "      <td>NaN</td>\n",
       "      <td>NaN</td>\n",
       "    </tr>\n",
       "    <tr>\n",
       "      <th>32959</th>\n",
       "      <td>Conjunto Comercial/Sala</td>\n",
       "      <td>Centro</td>\n",
       "      <td>0</td>\n",
       "      <td>0</td>\n",
       "      <td>0</td>\n",
       "      <td>250</td>\n",
       "      <td>6500.0</td>\n",
       "      <td>4206.0</td>\n",
       "      <td>1109.0</td>\n",
       "    </tr>\n",
       "  </tbody>\n",
       "</table>\n",
       "<p>9842 rows × 9 columns</p>\n",
       "</div>"
      ],
      "text/plain": [
       "                          Tipo           Bairro  Quartos  Vagas  Suites  Area  \\\n",
       "2      Conjunto Comercial/Sala  Barra da Tijuca        0      4       0   150   \n",
       "9      Conjunto Comercial/Sala           Centro        0      3       0   695   \n",
       "16              Prédio Inteiro         Botafogo        0      0       0   536   \n",
       "26     Conjunto Comercial/Sala    São Cristóvão        0      1       0    25   \n",
       "29                  Loja/Salão     Campo Grande        0      1       0    35   \n",
       "...                        ...              ...      ...    ...     ...   ...   \n",
       "32942  Conjunto Comercial/Sala  Barra da Tijuca        0      1       0    55   \n",
       "32946  Conjunto Comercial/Sala           Centro        0      0       0   140   \n",
       "32948  Conjunto Comercial/Sala           Centro        0      0       0    32   \n",
       "32954              Box/Garagem           Centro        0      0       0   755   \n",
       "32959  Conjunto Comercial/Sala           Centro        0      0       0   250   \n",
       "\n",
       "         Valor  Condominio    IPTU  \n",
       "2       5200.0      4020.0  1111.0  \n",
       "9      35000.0     19193.0  3030.0  \n",
       "16     28000.0         NaN  3563.0  \n",
       "26      1100.0       600.0     NaN  \n",
       "29      1300.0       950.0     NaN  \n",
       "...        ...         ...     ...  \n",
       "32942   2000.0      1096.0     NaN  \n",
       "32946   4000.0      1412.0   496.0  \n",
       "32948    600.0      1035.0    83.0  \n",
       "32954  14000.0         NaN     NaN  \n",
       "32959   6500.0      4206.0  1109.0  \n",
       "\n",
       "[9842 rows x 9 columns]"
      ]
     },
     "execution_count": 5,
     "metadata": {},
     "output_type": "execute_result"
    }
   ],
   "source": [
    "#Estamos consultando os imóveis que tem elementos diferentes da lista na coluna tipo e criando um novo dataframe.\n",
    "comerciais = df.query('@imoveis_residenciais not in Tipo')\n",
    "comerciais"
   ]
  },
  {
   "cell_type": "markdown",
   "id": "fb9d4d4f",
   "metadata": {},
   "source": [
    "Agora iremos tratar dos valores ausentes (NaN) que existem nos dataframes de comerciais e residenciais colocando todos em zero."
   ]
  },
  {
   "cell_type": "code",
   "execution_count": 6,
   "id": "a51e0631",
   "metadata": {},
   "outputs": [
    {
     "data": {
      "application/vnd.microsoft.datawrangler.viewer.v0+json": {
       "columns": [
        {
         "name": "index",
         "rawType": "object",
         "type": "string"
        },
        {
         "name": "0",
         "rawType": "int64",
         "type": "integer"
        }
       ],
       "ref": "361e5fa6-e863-4411-9723-2480d805b1ca",
       "rows": [
        [
         "Tipo",
         "0"
        ],
        [
         "Bairro",
         "0"
        ],
        [
         "Quartos",
         "0"
        ],
        [
         "Vagas",
         "0"
        ],
        [
         "Suites",
         "0"
        ],
        [
         "Area",
         "0"
        ],
        [
         "Valor",
         "9"
        ],
        [
         "Condominio",
         "1874"
        ],
        [
         "IPTU",
         "6885"
        ]
       ],
       "shape": {
        "columns": 1,
        "rows": 9
       }
      },
      "text/plain": [
       "Tipo             0\n",
       "Bairro           0\n",
       "Quartos          0\n",
       "Vagas            0\n",
       "Suites           0\n",
       "Area             0\n",
       "Valor            9\n",
       "Condominio    1874\n",
       "IPTU          6885\n",
       "dtype: int64"
      ]
     },
     "execution_count": 6,
     "metadata": {},
     "output_type": "execute_result"
    }
   ],
   "source": [
    "#Conferindo em casa coluna quantos elementos NaN's tem.\n",
    "residenciais.isnull().sum()"
   ]
  },
  {
   "cell_type": "code",
   "execution_count": 7,
   "id": "f4fe5cfa",
   "metadata": {},
   "outputs": [
    {
     "data": {
      "application/vnd.microsoft.datawrangler.viewer.v0+json": {
       "columns": [
        {
         "name": "index",
         "rawType": "object",
         "type": "string"
        },
        {
         "name": "0",
         "rawType": "int64",
         "type": "integer"
        }
       ],
       "ref": "36ebb079-40f8-4137-9245-93ba7f93f896",
       "rows": [
        [
         "Tipo",
         "0"
        ],
        [
         "Bairro",
         "0"
        ],
        [
         "Quartos",
         "0"
        ],
        [
         "Vagas",
         "0"
        ],
        [
         "Suites",
         "0"
        ],
        [
         "Area",
         "0"
        ],
        [
         "Valor",
         "8"
        ],
        [
         "Condominio",
         "2219"
        ],
        [
         "IPTU",
         "3352"
        ]
       ],
       "shape": {
        "columns": 1,
        "rows": 9
       }
      },
      "text/plain": [
       "Tipo             0\n",
       "Bairro           0\n",
       "Quartos          0\n",
       "Vagas            0\n",
       "Suites           0\n",
       "Area             0\n",
       "Valor            8\n",
       "Condominio    2219\n",
       "IPTU          3352\n",
       "dtype: int64"
      ]
     },
     "execution_count": 7,
     "metadata": {},
     "output_type": "execute_result"
    }
   ],
   "source": [
    "comerciais.isnull().sum()"
   ]
  },
  {
   "cell_type": "code",
   "execution_count": 8,
   "id": "3023f2b0",
   "metadata": {},
   "outputs": [],
   "source": [
    "#Criando um novo dataframe com as colunas linhas que estão em NaN iguais a zero.\n",
    "residenciais = residenciais.fillna(0)\n",
    "comerciais = comerciais.fillna(0)"
   ]
  },
  {
   "cell_type": "markdown",
   "id": "73c37657",
   "metadata": {},
   "source": [
    "Agora iremos excluir as linhas que estão em zero das colunas valor e condominio de imoveis residencias.\n",
    "Essa operação não será feita em imoveis comerciais, pois existem imóveis que não são pagos condominio e nem valor de aluguel."
   ]
  },
  {
   "cell_type": "code",
   "execution_count": 9,
   "id": "54200c85",
   "metadata": {},
   "outputs": [
    {
     "data": {
      "text/plain": [
       "Index([    1,     5,     7,     8,    10,    18,    31,    76,   113,   117,\n",
       "       ...\n",
       "       32732, 32739, 32778, 32804, 32809, 32859, 32865, 32893, 32911, 32931],\n",
       "      dtype='int64', length=1881)"
      ]
     },
     "execution_count": 9,
     "metadata": {},
     "output_type": "execute_result"
    }
   ],
   "source": [
    "#Indentificando as linhas das colunas valor e condominio que estão iguais a zero\n",
    "remover_residenciais = residenciais.query('Valor == 0 or Condominio == 0').index\n",
    "remover_residenciais"
   ]
  },
  {
   "cell_type": "code",
   "execution_count": 10,
   "id": "b3719898",
   "metadata": {},
   "outputs": [],
   "source": [
    "#Foram removidas as linhas das colunas valor e condominio que estivessem iguais a zero referente aos imoveis residenciais.\n",
    "residenciais.drop(remover_residenciais, axis=0, inplace=True)"
   ]
  },
  {
   "cell_type": "markdown",
   "id": "f9dcfec4",
   "metadata": {},
   "source": [
    "Esboçando um gráfico com os dados das médias de valores residenciais e comerciais."
   ]
  },
  {
   "cell_type": "code",
   "execution_count": 13,
   "id": "9cdcf858",
   "metadata": {},
   "outputs": [
    {
     "data": {
      "text/plain": [
       "<Axes: xlabel='Tipo'>"
      ]
     },
     "execution_count": 13,
     "metadata": {},
     "output_type": "execute_result"
    },
    {
     "data": {
      "image/png": "[encoded data removed]",
      "text/plain": [
       "<Figure size 500x500 with 1 Axes>"
      ]
     },
     "metadata": {},
     "output_type": "display_data"
    }
   ],
   "source": [
    "#Agrupando a coluna tipo e valor e gerando um grafico com elas\n",
    "residenciais_tipo_valor = residenciais.groupby('Tipo')[['Valor']].mean().sort_values('Valor')\n",
    "\n",
    "residenciais_tipo_valor.plot(kind='bar', figsize=(5, 5), color='orange')"
   ]
  },
  {
   "cell_type": "code",
   "execution_count": 14,
   "id": "591d29b3",
   "metadata": {},
   "outputs": [
    {
     "data": {
      "text/plain": [
       "<Axes: ylabel='Tipo'>"
      ]
     },
     "execution_count": 14,
     "metadata": {},
     "output_type": "execute_result"
    },
    {
     "data": {
      "image/png": "[encoded data removed]",
      "text/plain": [
       "<Figure size 500x500 with 1 Axes>"
      ]
     },
     "metadata": {},
     "output_type": "display_data"
    }
   ],
   "source": [
    "#Agrupando a coluna tipo e valor e gerando um grafico com elas.\n",
    "comerciais_tipo_valor = comerciais.groupby('Tipo')[['Valor']].mean().sort_values('Valor')\n",
    "\n",
    "comerciais_tipo_valor.plot(kind='barh', figsize=(5, 5), color='orange')"
   ]
  },
  {
   "cell_type": "markdown",
   "id": "08915730",
   "metadata": {},
   "source": [
    "Criando uma nova coluna em residenciais e comerciais que destacam os gatos mensais e anuais com os imóveis"
   ]
  },
  {
   "cell_type": "code",
   "execution_count": null,
   "id": "0b3a86df",
   "metadata": {},
   "outputs": [],
   "source": [
    "#Criando uma nova coluna com os gastos mensais.\n",
    "residenciais['Gasto mensal'] = residenciais['Valor'] + residenciais['Condominio']\n",
    "residenciais"
   ]
  },
  {
   "cell_type": "code",
   "execution_count": null,
   "id": "2072d64a",
   "metadata": {},
   "outputs": [],
   "source": [
    "#Criando uma nova coluna com os gastos anuais.\n",
    "residenciais['Gasto anual'] = (residenciais['Valor'] + residenciais['Condominio'] * 12) + residenciais['IPTU']\n",
    "residenciais"
   ]
  },
  {
   "cell_type": "code",
   "execution_count": null,
   "id": "9879aaa8",
   "metadata": {},
   "outputs": [],
   "source": [
    "comerciais['Gasto mensal'] = comerciais['Valor'] + comerciais['Condominio']\n",
    "comerciais"
   ]
  },
  {
   "cell_type": "code",
   "execution_count": null,
   "id": "2467c049",
   "metadata": {},
   "outputs": [],
   "source": [
    "comerciais['Gasto anual'] = (comerciais['Valor'] + comerciais['Condominio'] * 12) + comerciais['IPTU']\n",
    "comerciais"
   ]
  },
  {
   "cell_type": "code",
   "execution_count": null,
   "id": "23e4f84c",
   "metadata": {},
   "outputs": [],
   "source": [
    "#Selecionando o elemento mais predominante dos imoveis residenciais e excluindo a coluna tipo.\n",
    "apartamentos = residenciais.query('Tipo == \"Apartamento\"')\n",
    "apartamentos.drop('Tipo', axis=1, inplace=True)\n",
    "apartamentos"
   ]
  },
  {
   "cell_type": "code",
   "execution_count": null,
   "id": "a3ab9534",
   "metadata": {},
   "outputs": [],
   "source": [
    "#Selecionando o elemento mais predominante dos imoveis comerciais e excluindo a coluna tipo.\n",
    "conjunto_comercial_sala = comerciais.query('Tipo == \"Conjunto Comercial/Sala\"')\n",
    "conjunto_comercial_sala.drop('Tipo', axis=1, inplace=True)\n",
    "conjunto_comercial_sala"
   ]
  },
  {
   "cell_type": "code",
   "execution_count": null,
   "id": "5af63feb",
   "metadata": {},
   "outputs": [],
   "source": [
    "#Destacando apartamentos com mais de 70m.\n",
    "apartamentos['Area maior 70m'] = apartamentos['Area'].apply(lambda x: 'Sim' if x > 70  else 'Não')\n",
    "apartamentos"
   ]
  },
  {
   "cell_type": "code",
   "execution_count": null,
   "id": "ac9a2106",
   "metadata": {},
   "outputs": [],
   "source": [
    "#Destacando conjunto comercial/sala com mais de 70m.\n",
    "conjunto_comercial_sala['Area maior 70m'] = conjunto_comercial_sala['Area'].apply(lambda x: 'Sim' if x > 70  else 'Não')\n",
    "conjunto_comercial_sala"
   ]
  },
  {
   "cell_type": "code",
   "execution_count": null,
   "id": "0bca20a0",
   "metadata": {},
   "outputs": [],
   "source": [
    "#Salvando os dados de apartamento\n",
    "apartamentos.to_csv('apartamentos.csv', index=False)\n"
   ]
  },
  {
   "cell_type": "code",
   "execution_count": null,
   "id": "ab052f3c",
   "metadata": {},
   "outputs": [],
   "source": [
    "# Salvando os dados de conjunto comercial/sala\n",
    "conjunto_comercial_sala.to_csv('conjuntoCS.csv', index=False)"
   ]
  }
 ],
 "metadata": {
  "kernelspec": {
   "display_name": "EngDados",
   "language": "python",
   "name": "python3"
  },
  "language_info": {
   "codemirror_mode": {
    "name": "ipython",
    "version": 3
   },
   "file_extension": ".py",
   "mimetype": "text/x-python",
   "name": "python",
   "nbconvert_exporter": "python",
   "pygments_lexer": "ipython3",
   "version": "3.12.3"
  }
 },
 "nbformat": 4,
 "nbformat_minor": 5
}
